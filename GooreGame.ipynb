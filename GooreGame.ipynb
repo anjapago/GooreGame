{
 "cells": [
  {
   "cell_type": "markdown",
   "metadata": {},
   "source": [
    "# Goore Game"
   ]
  },
  {
   "cell_type": "code",
   "execution_count": 1,
   "metadata": {},
   "outputs": [],
   "source": [
    "import random\n",
    "import numpy as np\n",
    "import matplotlib.pyplot as plt\n",
    "import scipy.stats as stats\n",
    "import math\n",
    "import automata\n",
    "from automata import Tsetlin, GooreGame, Lri"
   ]
  },
  {
   "cell_type": "code",
   "execution_count": 2,
   "metadata": {},
   "outputs": [
    {
     "name": "stdout",
     "output_type": "stream",
     "text": [
      "P: [0.5, 0.5], Action: 0, kr: 0.9\n"
     ]
    }
   ],
   "source": [
    "l1=Lri()\n",
    "print(l1)"
   ]
  },
  {
   "cell_type": "code",
   "execution_count": 3,
   "metadata": {},
   "outputs": [
    {
     "name": "stdout",
     "output_type": "stream",
     "text": [
      "N: 3, Current State: 3, Action: 0\n"
     ]
    }
   ],
   "source": [
    "t1=Tsetlin()\n",
    "print(t1)"
   ]
  },
  {
   "cell_type": "code",
   "execution_count": 4,
   "metadata": {},
   "outputs": [
    {
     "name": "stdout",
     "output_type": "stream",
     "text": [
      "N: 3, Current State: 3, Action: 0\n",
      "N: 3, Current State: 3, Action: 0\n",
      "N: 3, Current State: 3, Action: 0\n",
      "N: 3, Current State: 3, Action: 0\n",
      "N: 3, Current State: 3, Action: 0\n",
      "N: 3, Current State: 6, Action: 1\n",
      "N: 3, Current State: 3, Action: 0\n",
      "N: 3, Current State: 6, Action: 1\n",
      "N: 3, Current State: 6, Action: 1\n",
      "N: 3, Current State: 6, Action: 1\n"
     ]
    }
   ],
   "source": [
    "gg=GooreGame()\n",
    "print(gg)"
   ]
  },
  {
   "cell_type": "markdown",
   "metadata": {},
   "source": [
    "## Simulations\n",
    "\n",
    "### Tsetlin\n",
    "\n",
    "#### Single Experiment"
   ]
  },
  {
   "cell_type": "code",
   "execution_count": 2,
   "metadata": {},
   "outputs": [],
   "source": [
    "# run to convergence\n",
    "theta_opt=0.9\n",
    "gg=GooreGame(theta_opt=theta_opt, automata=\"Tsetlin\", N=50, n_voters=10)\n",
    "thetas=[]\n",
    "num_steps=10000\n",
    "penalties=[]\n",
    "for step in range(num_steps):\n",
    "    gg.step()\n",
    "    thetas.append(gg.theta)\n",
    "    penalties.append(gg.p_pen)"
   ]
  },
  {
   "cell_type": "code",
   "execution_count": 17,
   "metadata": {},
   "outputs": [
    {
     "data": {
      "image/png": "[encoded data removed]",
      "text/plain": [
       "<matplotlib.figure.Figure at 0x1a0bddce80>"
      ]
     },
     "metadata": {},
     "output_type": "display_data"
    }
   ],
   "source": [
    "plt.plot(thetas)\n",
    "plt.show()"
   ]
  },
  {
   "cell_type": "code",
   "execution_count": 15,
   "metadata": {},
   "outputs": [
    {
     "data": {
      "image/png": "[encoded data removed]",
      "text/plain": [
       "<matplotlib.figure.Figure at 0x1a0f570208>"
      ]
     },
     "metadata": {},
     "output_type": "display_data"
    }
   ],
   "source": [
    "plt.plot(penalties)\n",
    "plt.show()"
   ]
  },
  {
   "cell_type": "markdown",
   "metadata": {},
   "source": [
    "#### Ensemble Average"
   ]
  },
  {
   "cell_type": "code",
   "execution_count": 13,
   "metadata": {},
   "outputs": [
    {
     "name": "stdout",
     "output_type": "stream",
     "text": [
      "exp: 0 theta: 0.7 p(pen): 0.1 num steps: 138\n",
      "exp: 1 theta: 0.7 p(pen): 0.1 num steps: 136\n",
      "exp: 2 theta: 0.7 p(pen): 0.1 num steps: 135\n",
      "exp: 3 theta: 0.7 p(pen): 0.1 num steps: 139\n",
      "exp: 4 theta: 0.7 p(pen): 0.1 num steps: 144\n",
      "exp: 5 theta: 0.7 p(pen): 0.1 num steps: 145\n",
      "exp: 6 theta: 0.7 p(pen): 0.1 num steps: 129\n",
      "exp: 7 theta: 0.7 p(pen): 0.1 num steps: 150\n",
      "exp: 8 theta: 0.7 p(pen): 0.1 num steps: 128\n",
      "exp: 9 theta: 0.7 p(pen): 0.1 num steps: 134\n",
      "exp: 10 theta: 0.7 p(pen): 0.1 num steps: 148\n",
      "exp: 11 theta: 0.7 p(pen): 0.1 num steps: 134\n",
      "exp: 12 theta: 0.7 p(pen): 0.1 num steps: 140\n",
      "exp: 13 theta: 0.7 p(pen): 0.1 num steps: 134\n",
      "exp: 14 theta: 0.8 p(pen): 0.383147782506 num steps: 540\n",
      "exp: 15 theta: 0.7 p(pen): 0.1 num steps: 150\n",
      "exp: 16 theta: 0.7 p(pen): 0.1 num steps: 162\n",
      "exp: 17 theta: 0.7 p(pen): 0.1 num steps: 131\n",
      "exp: 18 theta: 0.7 p(pen): 0.1 num steps: 148\n",
      "exp: 19 theta: 0.7 p(pen): 0.1 num steps: 145\n",
      "exp: 20 theta: 0.7 p(pen): 0.1 num steps: 132\n",
      "exp: 21 theta: 0.7 p(pen): 0.1 num steps: 131\n",
      "exp: 22 theta: 0.7 p(pen): 0.1 num steps: 130\n",
      "exp: 23 theta: 0.7 p(pen): 0.1 num steps: 155\n",
      "exp: 24 theta: 0.7 p(pen): 0.1 num steps: 136\n",
      "exp: 25 theta: 0.7 p(pen): 0.1 num steps: 161\n",
      "exp: 26 theta: 0.7 p(pen): 0.1 num steps: 136\n",
      "exp: 27 theta: 0.6 p(pen): 0.383147782506 num steps: 469\n",
      "exp: 28 theta: 0.7 p(pen): 0.1 num steps: 143\n",
      "exp: 29 theta: 0.6 p(pen): 0.383147782506 num steps: 760\n",
      "exp: 30 theta: 0.7 p(pen): 0.1 num steps: 143\n",
      "exp: 31 theta: 0.7 p(pen): 0.1 num steps: 127\n",
      "exp: 32 theta: 0.7 p(pen): 0.1 num steps: 127\n",
      "exp: 33 theta: 0.7 p(pen): 0.1 num steps: 134\n",
      "exp: 34 theta: 0.7 p(pen): 0.1 num steps: 181\n",
      "exp: 35 theta: 0.7 p(pen): 0.1 num steps: 153\n",
      "exp: 36 theta: 0.7 p(pen): 0.1 num steps: 128\n",
      "exp: 37 theta: 0.7 p(pen): 0.1 num steps: 131\n",
      "exp: 38 theta: 0.7 p(pen): 0.1 num steps: 138\n",
      "exp: 39 theta: 0.7 p(pen): 0.1 num steps: 142\n",
      "exp: 40 theta: 0.7 p(pen): 0.1 num steps: 140\n",
      "exp: 41 theta: 0.7 p(pen): 0.1 num steps: 147\n",
      "exp: 42 theta: 0.7 p(pen): 0.1 num steps: 133\n",
      "exp: 43 theta: 0.6 p(pen): 0.383147782506 num steps: 503\n",
      "exp: 44 theta: 0.7 p(pen): 0.1 num steps: 137\n",
      "exp: 45 theta: 0.7 p(pen): 0.1 num steps: 133\n",
      "exp: 46 theta: 0.7 p(pen): 0.1 num steps: 176\n",
      "exp: 47 theta: 0.7 p(pen): 0.1 num steps: 162\n",
      "exp: 48 theta: 0.7 p(pen): 0.1 num steps: 160\n",
      "exp: 49 theta: 0.7 p(pen): 0.1 num steps: 146\n",
      "exp: 50 theta: 0.7 p(pen): 0.1 num steps: 141\n",
      "exp: 51 theta: 0.7 p(pen): 0.1 num steps: 141\n",
      "exp: 52 theta: 0.7 p(pen): 0.1 num steps: 146\n",
      "exp: 53 theta: 0.7 p(pen): 0.1 num steps: 139\n",
      "exp: 54 theta: 0.7 p(pen): 0.1 num steps: 146\n",
      "exp: 55 theta: 0.7 p(pen): 0.1 num steps: 143\n",
      "exp: 56 theta: 0.7 p(pen): 0.1 num steps: 133\n",
      "exp: 57 theta: 0.7 p(pen): 0.1 num steps: 138\n",
      "exp: 58 theta: 0.7 p(pen): 0.1 num steps: 134\n",
      "exp: 59 theta: 0.7 p(pen): 0.1 num steps: 143\n",
      "exp: 60 theta: 0.7 p(pen): 0.1 num steps: 128\n",
      "exp: 61 theta: 0.7 p(pen): 0.1 num steps: 138\n",
      "exp: 62 theta: 0.7 p(pen): 0.1 num steps: 133\n",
      "exp: 63 theta: 0.7 p(pen): 0.1 num steps: 131\n",
      "exp: 64 theta: 0.6 p(pen): 0.383147782506 num steps: 562\n",
      "exp: 65 theta: 0.7 p(pen): 0.1 num steps: 129\n",
      "exp: 66 theta: 0.7 p(pen): 0.1 num steps: 132\n",
      "exp: 67 theta: 0.7 p(pen): 0.1 num steps: 157\n",
      "exp: 68 theta: 0.7 p(pen): 0.1 num steps: 131\n",
      "exp: 69 theta: 0.7 p(pen): 0.1 num steps: 142\n",
      "exp: 70 theta: 0.7 p(pen): 0.1 num steps: 134\n",
      "exp: 71 theta: 0.7 p(pen): 0.1 num steps: 134\n",
      "exp: 72 theta: 0.7 p(pen): 0.1 num steps: 143\n",
      "exp: 73 theta: 0.7 p(pen): 0.1 num steps: 135\n",
      "exp: 74 theta: 0.7 p(pen): 0.1 num steps: 169\n",
      "exp: 75 theta: 0.7 p(pen): 0.1 num steps: 127\n",
      "exp: 76 theta: 0.7 p(pen): 0.1 num steps: 133\n",
      "exp: 77 theta: 0.7 p(pen): 0.1 num steps: 143\n",
      "exp: 78 theta: 0.7 p(pen): 0.1 num steps: 135\n",
      "exp: 79 theta: 0.7 p(pen): 0.1 num steps: 133\n",
      "exp: 80 theta: 0.7 p(pen): 0.1 num steps: 130\n",
      "exp: 81 theta: 0.7 p(pen): 0.1 num steps: 193\n",
      "exp: 82 theta: 0.7 p(pen): 0.1 num steps: 148\n",
      "exp: 83 theta: 0.7 p(pen): 0.1 num steps: 138\n",
      "exp: 84 theta: 0.7 p(pen): 0.1 num steps: 129\n",
      "exp: 85 theta: 0.7 p(pen): 0.1 num steps: 143\n",
      "exp: 86 theta: 0.7 p(pen): 0.1 num steps: 140\n",
      "exp: 87 theta: 0.7 p(pen): 0.1 num steps: 142\n",
      "exp: 88 theta: 0.6 p(pen): 0.383147782506 num steps: 548\n",
      "exp: 89 theta: 0.7 p(pen): 0.1 num steps: 127\n",
      "exp: 90 theta: 0.7 p(pen): 0.1 num steps: 141\n",
      "exp: 91 theta: 0.7 p(pen): 0.1 num steps: 133\n",
      "exp: 92 theta: 0.7 p(pen): 0.1 num steps: 151\n",
      "exp: 93 theta: 0.7 p(pen): 0.1 num steps: 144\n",
      "exp: 94 theta: 0.7 p(pen): 0.1 num steps: 143\n",
      "exp: 95 theta: 0.7 p(pen): 0.1 num steps: 146\n",
      "exp: 96 theta: 0.7 p(pen): 0.1 num steps: 138\n",
      "exp: 97 theta: 0.7 p(pen): 0.1 num steps: 136\n",
      "exp: 98 theta: 0.7 p(pen): 0.1 num steps: 139\n",
      "exp: 99 theta: 0.7 p(pen): 0.1 num steps: 152\n"
     ]
    }
   ],
   "source": [
    "num_exps=100\n",
    "final_thetas=[]\n",
    "final_penalties=[]\n",
    "theta_opt=0.7\n",
    "max_steps=1000\n",
    "steps_to_conv=[]\n",
    "\n",
    "for exp in range(num_exps):\n",
    "    gg=GooreGame(theta_opt=theta_opt, automata=\"Tsetlin\", N=100, n_voters=100)\n",
    "    num_steps=0\n",
    "    while (not gg.converged) and (num_steps<max_steps):\n",
    "        num_steps=num_steps+1\n",
    "        gg.step()\n",
    "    final_thetas.append(gg.theta)\n",
    "    final_penalties.append(gg.p_pen)\n",
    "    steps_to_conv.append(num_steps)\n",
    "    print(\"exp: \"+str(exp)+\" theta: \"+str(gg.theta)+\" p(pen): \"+str(gg.p_pen)+\" num steps: \"+str(num_steps))\n",
    "    "
   ]
  },
  {
   "cell_type": "code",
   "execution_count": 12,
   "metadata": {},
   "outputs": [
    {
     "data": {
      "image/png": "[encoded data removed]",
      "text/plain": [
       "<matplotlib.figure.Figure at 0x1a0f741a20>"
      ]
     },
     "metadata": {},
     "output_type": "display_data"
    }
   ],
   "source": [
    "#final_thetas1=final_thetas\n",
    "plt.hist(final_thetas, bins=30)\n",
    "plt.title(\"Final thetas with 100 voters (opt theta=0.7)\")\n",
    "plt.ylabel(\"Number of Experiments\")\n",
    "plt.xlabel(\"Final Theta\")\n",
    "plt.savefig(\"100voters.png\")\n",
    "plt.show()"
   ]
  },
  {
   "cell_type": "code",
   "execution_count": 4,
   "metadata": {},
   "outputs": [],
   "source": [
    "num_exps=100\n",
    "final_thetas=[]\n",
    "final_penalties=[]\n",
    "theta_opt=0.7\n",
    "max_steps=1000\n",
    "steps_to_conv=[]\n",
    "\n",
    "for exp in range(num_exps):\n",
    "    gg=GooreGame(theta_opt=theta_opt, automata=\"Tsetlin\", N=100, n_voters=10)\n",
    "    num_steps=0\n",
    "    while (not gg.converged) and (num_steps<max_steps):\n",
    "        num_steps=num_steps+1\n",
    "        gg.step()\n",
    "    final_thetas.append(gg.theta)\n",
    "    final_penalties.append(gg.p_pen)\n",
    "    steps_to_conv.append(num_steps)\n",
    "    #print(\"exp: \"+str(exp)+\" theta: \"+str(gg.theta)+\" p(pen): \"+str(gg.p_pen)+\" num steps: \"+str(num_steps))\n",
    " "
   ]
  },
  {
   "cell_type": "code",
   "execution_count": 9,
   "metadata": {},
   "outputs": [
    {
     "data": {
      "image/png": "[encoded data removed]",
      "text/plain": [
       "<matplotlib.figure.Figure at 0x1a0f48c748>"
      ]
     },
     "metadata": {},
     "output_type": "display_data"
    }
   ],
   "source": [
    "plt.hist(final_thetas, bins=20)\n",
    "plt.title(\"Final thetas with 10 voters (opt theta=0.7)\")\n",
    "plt.ylabel(\"Number of Experiments\")\n",
    "plt.xlabel(\"Final Theta\")\n",
    "plt.savefig(\"10voters.png\")\n",
    "plt.show()"
   ]
  },
  {
   "cell_type": "markdown",
   "metadata": {},
   "source": [
    "### N vs Error in Theta"
   ]
  },
  {
   "cell_type": "code",
   "execution_count": 18,
   "metadata": {},
   "outputs": [
    {
     "name": "stdout",
     "output_type": "stream",
     "text": [
      "N: 3 thetas: 0.7000000000000013\n",
      "N: 5 thetas: 0.7010000000000012\n",
      "N: 7 thetas: 0.6990000000000013\n",
      "N: 9 thetas: 0.6990000000000012\n",
      "N: 11 thetas: 0.7000000000000013\n",
      "N: 13 thetas: 0.6960000000000012\n",
      "N: 15 thetas: 0.6980000000000013\n",
      "N: 17 thetas: 0.7010000000000012\n",
      "N: 19 thetas: 0.6970000000000013\n",
      "N: 21 thetas: 0.6960000000000014\n",
      "N: 23 thetas: 0.6970000000000013\n",
      "N: 25 thetas: 0.6980000000000011\n",
      "N: 27 thetas: 0.6960000000000012\n",
      "N: 29 thetas: 0.6990000000000012\n",
      "N: 31 thetas: 0.6980000000000013\n",
      "N: 33 thetas: 0.6940000000000012\n",
      "N: 35 thetas: 0.6980000000000013\n",
      "N: 37 thetas: 0.6960000000000012\n",
      "N: 39 thetas: 0.6970000000000012\n",
      "N: 41 thetas: 0.6990000000000012\n",
      "N: 43 thetas: 0.6950000000000013\n",
      "N: 45 thetas: 0.6950000000000013\n",
      "N: 47 thetas: 0.6970000000000013\n",
      "N: 49 thetas: 0.6950000000000013\n",
      "N: 51 thetas: 0.6960000000000012\n",
      "N: 53 thetas: 0.6970000000000012\n",
      "N: 55 thetas: 0.6980000000000013\n",
      "N: 57 thetas: 0.7020000000000013\n",
      "N: 59 thetas: 0.6980000000000013\n",
      "N: 61 thetas: 0.6960000000000011\n",
      "N: 63 thetas: 0.6990000000000013\n",
      "N: 65 thetas: 0.6940000000000012\n",
      "N: 67 thetas: 0.6980000000000013\n",
      "N: 69 thetas: 0.6990000000000012\n",
      "N: 71 thetas: 0.6980000000000013\n",
      "N: 73 thetas: 0.6980000000000013\n",
      "N: 75 thetas: 0.6940000000000012\n",
      "N: 77 thetas: 0.6990000000000012\n",
      "N: 79 thetas: 0.6980000000000013\n",
      "N: 81 thetas: 0.6990000000000013\n",
      "N: 83 thetas: 0.6970000000000013\n",
      "N: 85 thetas: 0.6990000000000013\n",
      "N: 87 thetas: 0.7010000000000012\n",
      "N: 89 thetas: 0.6990000000000013\n",
      "N: 91 thetas: 0.6960000000000012\n",
      "N: 93 thetas: 0.6980000000000013\n",
      "N: 95 thetas: 0.7000000000000012\n",
      "N: 97 thetas: 0.6980000000000013\n",
      "N: 99 thetas: 0.6990000000000013\n"
     ]
    }
   ],
   "source": [
    "# for varying N, test with 10 voters, plot distance from mean\n",
    "\n",
    "test_Ns=np.arange(3, 100, 2)\n",
    "theta_errs=[]\n",
    "\n",
    "for N in test_Ns:\n",
    "    num_exps=100\n",
    "    final_thetas=[]\n",
    "    final_penalties=[]\n",
    "    theta_opt=0.7\n",
    "    max_steps=1000\n",
    "    steps_to_conv=[]\n",
    "\n",
    "    for exp in range(num_exps):\n",
    "        gg=GooreGame(theta_opt=theta_opt, automata=\"Tsetlin\", N=N, n_voters=10)\n",
    "        num_steps=0\n",
    "        while (not gg.converged) and (num_steps<max_steps):\n",
    "            num_steps=num_steps+1\n",
    "            gg.step()\n",
    "        final_thetas.append(gg.theta)\n",
    "        final_penalties.append(gg.p_pen)\n",
    "        steps_to_conv.append(num_steps)\n",
    "    \n",
    "    theta_errs.append(abs(theta_opt-sum(final_thetas)/len(final_thetas)))\n",
    "    print(\"N: \"+str(N)+\" thetas: \"+str(sum(final_thetas)/len(final_thetas)))\n",
    "     "
   ]
  },
  {
   "cell_type": "code",
   "execution_count": 19,
   "metadata": {},
   "outputs": [
    {
     "data": {
      "image/png": "[encoded data removed]",
      "text/plain": [
       "<matplotlib.figure.Figure at 0x1a0f304470>"
      ]
     },
     "metadata": {},
     "output_type": "display_data"
    }
   ],
   "source": [
    "plt.plot(test_Ns, theta_errs)\n",
    "plt.show()"
   ]
  },
  {
   "cell_type": "code",
   "execution_count": 20,
   "metadata": {},
   "outputs": [
    {
     "name": "stdout",
     "output_type": "stream",
     "text": [
      "N: 3 thetas: 0.564\n",
      "N: 8 thetas: 0.6373000000000004\n",
      "N: 13 thetas: 0.6334999999999998\n",
      "N: 18 thetas: 0.6279999999999999\n",
      "N: 23 thetas: 0.6262000000000001\n",
      "N: 28 thetas: 0.6324000000000001\n",
      "N: 33 thetas: 0.6276\n",
      "N: 38 thetas: 0.6275000000000001\n",
      "N: 43 thetas: 0.6271000000000001\n",
      "N: 48 thetas: 0.6284999999999998\n",
      "N: 53 thetas: 0.6325\n",
      "N: 58 thetas: 0.6313999999999999\n",
      "N: 63 thetas: 0.6298999999999999\n",
      "N: 68 thetas: 0.6244999999999998\n",
      "N: 73 thetas: 0.6273000000000001\n",
      "N: 78 thetas: 0.6285\n",
      "N: 83 thetas: 0.6304999999999998\n",
      "N: 88 thetas: 0.6279000000000002\n",
      "N: 93 thetas: 0.6295000000000001\n",
      "N: 98 thetas: 0.6312000000000001\n"
     ]
    }
   ],
   "source": [
    "# for varying N, test with 10 voters, plot distance from mean\n",
    "\n",
    "test_Ns=np.arange(3, 100, 5)\n",
    "theta_errs=[]\n",
    "\n",
    "for N in test_Ns:\n",
    "    num_exps=100\n",
    "    final_thetas=[]\n",
    "    final_penalties=[]\n",
    "    theta_opt=0.7\n",
    "    max_steps=1000\n",
    "    steps_to_conv=[]\n",
    "\n",
    "    for exp in range(num_exps):\n",
    "        gg=GooreGame(theta_opt=theta_opt, automata=\"Tsetlin\", N=N, n_voters=100)\n",
    "        num_steps=0\n",
    "        while (not gg.converged) and (num_steps<max_steps):\n",
    "            num_steps=num_steps+1\n",
    "            gg.step()\n",
    "        final_thetas.append(gg.theta)\n",
    "        final_penalties.append(gg.p_pen)\n",
    "        steps_to_conv.append(num_steps)\n",
    "    \n",
    "    theta_errs.append(abs(theta_opt-sum(final_thetas)/len(final_thetas)))\n",
    "    print(\"N: \"+str(N)+\" thetas: \"+str(sum(final_thetas)/len(final_thetas)))"
   ]
  },
  {
   "cell_type": "code",
   "execution_count": 21,
   "metadata": {},
   "outputs": [
    {
     "data": {
      "image/png": "[encoded data removed]",
      "text/plain": [
       "<matplotlib.figure.Figure at 0x10248d6d8>"
      ]
     },
     "metadata": {},
     "output_type": "display_data"
    }
   ],
   "source": [
    "plt.plot(test_Ns, theta_errs)\n",
    "plt.show()"
   ]
  },
  {
   "cell_type": "markdown",
   "metadata": {},
   "source": [
    "### Voters vs Error in Theta"
   ]
  },
  {
   "cell_type": "code",
   "execution_count": 26,
   "metadata": {},
   "outputs": [
    {
     "name": "stdout",
     "output_type": "stream",
     "text": [
      "num_voters: 3 thetas: 0.666666666667\n",
      "num_voters: 5 thetas: 0.678\n",
      "num_voters: 7 thetas: 0.714285714286\n",
      "num_voters: 9 thetas: 0.682222222222\n",
      "num_voters: 11 thetas: 0.692727272727\n",
      "num_voters: 13 thetas: 0.690769230769\n",
      "num_voters: 15 thetas: 0.690666666667\n",
      "num_voters: 17 thetas: 0.681176470588\n",
      "num_voters: 19 thetas: 0.680526315789\n",
      "num_voters: 21 thetas: 0.681428571429\n",
      "num_voters: 23 thetas: 0.679565217391\n",
      "num_voters: 25 thetas: 0.6748\n",
      "num_voters: 27 thetas: 0.677037037037\n",
      "num_voters: 29 thetas: 0.669655172414\n",
      "num_voters: 31 thetas: 0.665161290323\n",
      "num_voters: 33 thetas: 0.665757575758\n",
      "num_voters: 35 thetas: 0.667428571429\n",
      "num_voters: 37 thetas: 0.663513513514\n",
      "num_voters: 39 thetas: 0.661025641026\n",
      "num_voters: 41 thetas: 0.654390243902\n",
      "num_voters: 43 thetas: 0.65488372093\n",
      "num_voters: 45 thetas: 0.658\n",
      "num_voters: 47 thetas: 0.651063829787\n",
      "num_voters: 49 thetas: 0.647346938776\n",
      "num_voters: 51 thetas: 0.646666666667\n",
      "num_voters: 53 thetas: 0.650377358491\n",
      "num_voters: 55 thetas: 0.646545454545\n",
      "num_voters: 57 thetas: 0.646842105263\n",
      "num_voters: 59 thetas: 0.647288135593\n",
      "num_voters: 61 thetas: 0.648032786885\n",
      "num_voters: 63 thetas: 0.645873015873\n",
      "num_voters: 65 thetas: 0.645846153846\n",
      "num_voters: 67 thetas: 0.642686567164\n",
      "num_voters: 69 thetas: 0.643043478261\n",
      "num_voters: 71 thetas: 0.64014084507\n",
      "num_voters: 73 thetas: 0.637808219178\n",
      "num_voters: 75 thetas: 0.637866666667\n",
      "num_voters: 77 thetas: 0.637142857143\n",
      "num_voters: 79 thetas: 0.640506329114\n",
      "num_voters: 81 thetas: 0.636913580247\n",
      "num_voters: 83 thetas: 0.639156626506\n",
      "num_voters: 85 thetas: 0.635882352941\n",
      "num_voters: 87 thetas: 0.633563218391\n",
      "num_voters: 89 thetas: 0.636741573034\n",
      "num_voters: 91 thetas: 0.636703296703\n",
      "num_voters: 93 thetas: 0.634408602151\n",
      "num_voters: 95 thetas: 0.635789473684\n",
      "num_voters: 97 thetas: 0.634639175258\n",
      "num_voters: 99 thetas: 0.63404040404\n"
     ]
    }
   ],
   "source": [
    "# for varying numbers of voters, test with N=20, plot distance from mean\n",
    "\n",
    "test_num_voters=np.arange(3, 100, 2)\n",
    "theta_errs=[]\n",
    "\n",
    "for num_voters in test_num_voters:\n",
    "    num_exps=100\n",
    "    final_thetas=[]\n",
    "    final_penalties=[]\n",
    "    theta_opt=0.7\n",
    "    max_steps=1000\n",
    "    steps_to_conv=[]\n",
    "\n",
    "    for exp in range(num_exps):\n",
    "        gg=GooreGame(theta_opt=theta_opt, automata=\"Tsetlin\", N=10, n_voters=num_voters)\n",
    "        num_steps=0\n",
    "        while (not gg.converged) and (num_steps<max_steps):\n",
    "            num_steps=num_steps+1\n",
    "            gg.step()\n",
    "        final_thetas.append(gg.theta)\n",
    "        final_penalties.append(gg.p_pen)\n",
    "        steps_to_conv.append(num_steps)\n",
    "    \n",
    "    theta_errs.append(abs(theta_opt-sum(final_thetas)/len(final_thetas)))\n",
    "    print(\"num_voters: \"+str(num_voters)+\" thetas: \"+str(sum(final_thetas)/len(final_thetas)))"
   ]
  },
  {
   "cell_type": "code",
   "execution_count": 27,
   "metadata": {},
   "outputs": [
    {
     "data": {
      "image/png": "[encoded data removed]",
      "text/plain": [
       "<matplotlib.figure.Figure at 0x1a0f9ac2b0>"
      ]
     },
     "metadata": {},
     "output_type": "display_data"
    }
   ],
   "source": [
    "plt.plot(test_num_voters, theta_errs)\n",
    "plt.title(\"Number of Voters vs Average Error in Theta (100 experiments, N=10, theta_opt=0.7)\")\n",
    "plt.xlabel(\"Number of Voters\")\n",
    "plt.ylabel(\"Error in Final Theta\")\n",
    "plt.savefig(\"numvotervserror07.png\")\n",
    "plt.show()"
   ]
  },
  {
   "cell_type": "code",
   "execution_count": 24,
   "metadata": {},
   "outputs": [
    {
     "name": "stdout",
     "output_type": "stream",
     "text": [
      "num_voters: 3 theta errors: 0.141632140246\n",
      "num_voters: 5 theta errors: 0.0515109070483\n",
      "num_voters: 7 theta errors: 0.0413548665256\n",
      "num_voters: 9 theta errors: 0.0323796253184\n",
      "num_voters: 11 theta errors: 0.0442462623688\n",
      "num_voters: 13 theta errors: 0.0555105640614\n",
      "num_voters: 15 theta errors: 0.0632300085518\n",
      "num_voters: 17 theta errors: 0.0976348590508\n",
      "num_voters: 19 theta errors: 0.0878071628045\n",
      "num_voters: 21 theta errors: 0.153552979196\n",
      "num_voters: 23 theta errors: 0.0977412863826\n",
      "num_voters: 25 theta errors: 0.115787511474\n",
      "num_voters: 27 theta errors: 0.12979589468\n",
      "num_voters: 29 theta errors: 0.123330641849\n",
      "num_voters: 31 theta errors: 0.145478249805\n",
      "num_voters: 33 theta errors: 0.150564634648\n",
      "num_voters: 35 theta errors: 0.138455386972\n",
      "num_voters: 37 theta errors: 0.217173850701\n",
      "num_voters: 39 theta errors: 0.164994228786\n",
      "num_voters: 41 theta errors: 0.159381158269\n",
      "num_voters: 43 theta errors: 0.186737625179\n",
      "num_voters: 45 theta errors: 0.16114252429\n",
      "num_voters: 47 theta errors: 0.147353645257\n",
      "num_voters: 49 theta errors: 0.154651888179\n",
      "num_voters: 51 theta errors: 0.177696057116\n",
      "num_voters: 53 theta errors: 0.191851149721\n",
      "num_voters: 55 theta errors: 0.206152491629\n",
      "num_voters: 57 theta errors: 0.176907414569\n",
      "num_voters: 59 theta errors: 0.21206595021\n",
      "num_voters: 61 theta errors: 0.182818480224\n",
      "num_voters: 63 theta errors: 0.164778443855\n",
      "num_voters: 65 theta errors: 0.197608738202\n",
      "num_voters: 67 theta errors: 0.20698434881\n",
      "num_voters: 69 theta errors: 0.203551325993\n",
      "num_voters: 71 theta errors: 0.221474009506\n",
      "num_voters: 73 theta errors: 0.207373025823\n",
      "num_voters: 75 theta errors: 0.170414249537\n",
      "num_voters: 77 theta errors: 0.1790021824\n",
      "num_voters: 79 theta errors: 0.204370056134\n",
      "num_voters: 81 theta errors: 0.241658504847\n",
      "num_voters: 83 theta errors: 0.21140653804\n",
      "num_voters: 85 theta errors: 0.213010266013\n",
      "num_voters: 87 theta errors: 0.212963221728\n",
      "num_voters: 89 theta errors: 0.241309117104\n",
      "num_voters: 91 theta errors: 0.203470918782\n",
      "num_voters: 93 theta errors: 0.211645927518\n",
      "num_voters: 95 theta errors: 0.239580173257\n",
      "num_voters: 97 theta errors: 0.191535841799\n",
      "num_voters: 99 theta errors: 0.208233253145\n"
     ]
    }
   ],
   "source": [
    "# for varying N, test with 10 voters, plot distance from mean\n",
    "# generate a new theta opt for each experiment\n",
    "\n",
    "test_num_voters=np.arange(3, 100, 2)\n",
    "theta_errs=[]\n",
    "\n",
    "for num_voters in test_num_voters:\n",
    "    num_exps=100\n",
    "    final_theta_errors=[]\n",
    "    final_penalties=[]\n",
    "    #theta_opt=0.7\n",
    "    max_steps=10000\n",
    "    steps_to_conv=[]\n",
    "\n",
    "    for exp in range(num_exps):\n",
    "        theta_opt=random.uniform(0,1)\n",
    "        gg=GooreGame(theta_opt=theta_opt, automata=\"Tsetlin\", N=10, n_voters=num_voters)\n",
    "        num_steps=0\n",
    "        while (not gg.converged) and (num_steps<max_steps):\n",
    "            num_steps=num_steps+1\n",
    "            gg.step()\n",
    "        final_theta_errors.append(abs(gg.theta-theta_opt))\n",
    "        final_penalties.append(gg.p_pen)\n",
    "        steps_to_conv.append(num_steps)\n",
    "    \n",
    "    theta_errs.append(sum(final_theta_errors)/len(final_theta_errors))\n",
    "    print(\"num_voters: \"+str(num_voters)+\" theta errors: \"+str(sum(final_theta_errors)/len(final_theta_errors)))"
   ]
  },
  {
   "cell_type": "code",
   "execution_count": 25,
   "metadata": {},
   "outputs": [
    {
     "data": {
      "image/png": "[encoded data removed]",
      "text/plain": [
       "<matplotlib.figure.Figure at 0x1a0f903780>"
      ]
     },
     "metadata": {},
     "output_type": "display_data"
    }
   ],
   "source": [
    "plt.plot(test_num_voters, theta_errs)\n",
    "plt.title(\"Number of Voters vs Average Error in Theta (100 experiments, N=10)\")\n",
    "plt.xlabel(\"Number of Voters\")\n",
    "plt.ylabel(\"Error in Final Theta\")\n",
    "plt.savefig(\"numvotervserror.png\")\n",
    "plt.show()"
   ]
  },
  {
   "cell_type": "markdown",
   "metadata": {},
   "source": [
    "### Lri\n",
    "\n",
    "#### Single Experiment"
   ]
  },
  {
   "cell_type": "code",
   "execution_count": 6,
   "metadata": {},
   "outputs": [],
   "source": [
    "# run to convergence\n",
    "gg=GooreGame(theta_opt=0.7, automata=\"Lri\", n_voters=10, g_mod=\"bimod\")\n",
    "thetas=[]\n",
    "num_steps=5000\n",
    "penalties=[]\n",
    "for step in range(num_steps):\n",
    "    gg.step()\n",
    "    thetas.append(gg.theta)\n",
    "    penalties.append(gg.p_pen)"
   ]
  },
  {
   "cell_type": "code",
   "execution_count": 7,
   "metadata": {},
   "outputs": [
    {
     "data": {
      "image/png": "[encoded data removed]",
      "text/plain": [
       "<matplotlib.figure.Figure at 0x11684f780>"
      ]
     },
     "metadata": {},
     "output_type": "display_data"
    }
   ],
   "source": [
    "plt.plot(thetas)\n",
    "plt.show()"
   ]
  },
  {
   "cell_type": "code",
   "execution_count": 8,
   "metadata": {},
   "outputs": [
    {
     "data": {
      "image/png": "[encoded data removed]",
      "text/plain": [
       "<matplotlib.figure.Figure at 0x1167419b0>"
      ]
     },
     "metadata": {},
     "output_type": "display_data"
    }
   ],
   "source": [
    "plt.plot(penalties)\n",
    "plt.show()"
   ]
  },
  {
   "cell_type": "code",
   "execution_count": 5,
   "metadata": {},
   "outputs": [
    {
     "data": {
      "image/png": "[encoded data removed]",
      "text/plain": [
       "<matplotlib.figure.Figure at 0x1167f0748>"
      ]
     },
     "metadata": {},
     "output_type": "display_data"
    }
   ],
   "source": [
    "thetas=np.arange(0,1, 0.05)\n",
    "plt.plot(thetas, [gg.bimod_g(theta) for theta in thetas])\n",
    "plt.show()"
   ]
  },
  {
   "cell_type": "markdown",
   "metadata": {},
   "source": [
    "#### Ensemble Average"
   ]
  },
  {
   "cell_type": "code",
   "execution_count": 8,
   "metadata": {},
   "outputs": [],
   "source": [
    "num_exps=100\n",
    "final_thetas_lri=[]\n",
    "final_penalties_lri=[]\n",
    "theta_opt=0.7\n",
    "num_voters=10\n",
    "\n",
    "max_steps=5000\n",
    "steps_to_conv=[]\n",
    "\n",
    "for exp in range(num_exps):\n",
    "    gg=GooreGame(theta_opt=theta_opt, automata=\"Lri\", kr=0.95, n_voters=num_voters)\n",
    "    num_steps=0\n",
    "    while (not gg.converged) and (num_steps<max_steps):\n",
    "        num_steps=num_steps+1\n",
    "        gg.step()\n",
    "    final_thetas_lri.append(gg.theta)\n",
    "    final_penalties_lri.append(gg.p_pen)\n",
    "    steps_to_conv.append(num_steps)"
   ]
  },
  {
   "cell_type": "code",
   "execution_count": 9,
   "metadata": {},
   "outputs": [
    {
     "data": {
      "image/png": "[encoded data removed]",
      "text/plain": [
       "<matplotlib.figure.Figure at 0x1a114ad860>"
      ]
     },
     "metadata": {},
     "output_type": "display_data"
    }
   ],
   "source": [
    "plt.hist(final_thetas_lri, bins=50)\n",
    "plt.show()"
   ]
  },
  {
   "cell_type": "code",
   "execution_count": 11,
   "metadata": {},
   "outputs": [
    {
     "data": {
      "image/png": "[encoded data removed]",
      "text/plain": [
       "<matplotlib.figure.Figure at 0x1a11641278>"
      ]
     },
     "metadata": {},
     "output_type": "display_data"
    }
   ],
   "source": [
    "plt.hist(steps_to_conv, bins=50)\n",
    "plt.show()"
   ]
  },
  {
   "cell_type": "markdown",
   "metadata": {},
   "source": [
    "#### Error in Theta at Each Step"
   ]
  },
  {
   "cell_type": "code",
   "execution_count": 13,
   "metadata": {},
   "outputs": [],
   "source": [
    "num_exps=100\n",
    "final_thetas_lri=[]\n",
    "final_penalties_lri=[]\n",
    "theta_opt=0.7\n",
    "num_voters=10\n",
    "\n",
    "max_steps=5000\n",
    "steps_to_conv=[]\n",
    "step_errors=np.zeros(max_steps)\n",
    "\n",
    "for exp in range(num_exps):\n",
    "    gg=GooreGame(theta_opt=theta_opt, automata=\"Lri\", kr=0.95, n_voters=num_voters)\n",
    "    num_steps=0\n",
    "    #while (not gg.converged) and (num_steps<max_steps):\n",
    "    while num_steps<max_steps:\n",
    "        step_errors[num_steps]=step_errors[num_steps]+abs(theta_opt-gg.theta)/num_exps\n",
    "        num_steps=num_steps+1\n",
    "        gg.step()\n",
    "    final_thetas_lri.append(gg.theta)\n",
    "    final_penalties_lri.append(gg.p_pen)\n",
    "    steps_to_conv.append(num_steps)\n",
    "    print(\"exp: \"+str(exp)+\" final theta\"+str(gg.theta))"
   ]
  },
  {
   "cell_type": "code",
   "execution_count": 15,
   "metadata": {},
   "outputs": [
    {
     "data": {
      "image/png": "[encoded data removed]",
      "text/plain": [
       "<matplotlib.figure.Figure at 0x1a11889e10>"
      ]
     },
     "metadata": {},
     "output_type": "display_data"
    }
   ],
   "source": [
    "plt.plot(step_errors)\n",
    "plt.title(\"Errors in Theta vs Number of Steps\")\n",
    "plt.ylabel(\"Error in Theta\")\n",
    "plt.xlabel(\"Number of Steps\")\n",
    "plt.show()"
   ]
  },
  {
   "cell_type": "markdown",
   "metadata": {},
   "source": [
    "#### Error in Theta at Each Step With Bimodal G"
   ]
  },
  {
   "cell_type": "code",
   "execution_count": 9,
   "metadata": {},
   "outputs": [
    {
     "name": "stdout",
     "output_type": "stream",
     "text": [
      "exp: 0 final theta: 0.8\n",
      "exp: 1 final theta: 0.8\n",
      "exp: 2 final theta: 0.8\n",
      "exp: 3 final theta: 0.8\n",
      "exp: 4 final theta: 0.8\n",
      "exp: 5 final theta: 0.8\n",
      "exp: 6 final theta: 0.8\n",
      "exp: 7 final theta: 0.8\n",
      "exp: 8 final theta: 0.8\n",
      "exp: 9 final theta: 0.8\n",
      "exp: 10 final theta: 0.8\n",
      "exp: 11 final theta: 0.8\n",
      "exp: 12 final theta: 0.8\n",
      "exp: 13 final theta: 0.8\n",
      "exp: 14 final theta: 0.8\n",
      "exp: 15 final theta: 0.8\n",
      "exp: 16 final theta: 0.8\n",
      "exp: 17 final theta: 0.8\n",
      "exp: 18 final theta: 0.8\n",
      "exp: 19 final theta: 0.8\n",
      "exp: 20 final theta: 0.8\n",
      "exp: 21 final theta: 0.8\n",
      "exp: 22 final theta: 0.8\n",
      "exp: 23 final theta: 0.8\n",
      "exp: 24 final theta: 0.8\n",
      "exp: 25 final theta: 0.8\n",
      "exp: 26 final theta: 0.8\n",
      "exp: 27 final theta: 0.8\n",
      "exp: 28 final theta: 0.8\n",
      "exp: 29 final theta: 0.8\n",
      "exp: 30 final theta: 0.8\n",
      "exp: 31 final theta: 0.8\n",
      "exp: 32 final theta: 0.8\n",
      "exp: 33 final theta: 0.8\n",
      "exp: 34 final theta: 0.8\n",
      "exp: 35 final theta: 0.8\n",
      "exp: 36 final theta: 0.8\n",
      "exp: 37 final theta: 0.8\n",
      "exp: 38 final theta: 0.8\n",
      "exp: 39 final theta: 0.8\n",
      "exp: 40 final theta: 0.8\n",
      "exp: 41 final theta: 0.8\n",
      "exp: 42 final theta: 0.8\n",
      "exp: 43 final theta: 0.8\n",
      "exp: 44 final theta: 0.8\n",
      "exp: 45 final theta: 0.8\n",
      "exp: 46 final theta: 0.8\n",
      "exp: 47 final theta: 0.8\n",
      "exp: 48 final theta: 0.8\n",
      "exp: 49 final theta: 0.8\n",
      "exp: 50 final theta: 0.8\n",
      "exp: 51 final theta: 0.8\n",
      "exp: 52 final theta: 0.8\n",
      "exp: 53 final theta: 0.8\n",
      "exp: 54 final theta: 0.4\n",
      "exp: 55 final theta: 0.8\n",
      "exp: 56 final theta: 0.8\n",
      "exp: 57 final theta: 0.8\n",
      "exp: 58 final theta: 0.8\n",
      "exp: 59 final theta: 0.8\n",
      "exp: 60 final theta: 0.8\n",
      "exp: 61 final theta: 0.8\n",
      "exp: 62 final theta: 0.8\n",
      "exp: 63 final theta: 0.8\n",
      "exp: 64 final theta: 0.8\n",
      "exp: 65 final theta: 0.8\n",
      "exp: 66 final theta: 0.8\n",
      "exp: 67 final theta: 0.8\n",
      "exp: 68 final theta: 0.8\n",
      "exp: 69 final theta: 0.8\n",
      "exp: 70 final theta: 0.8\n",
      "exp: 71 final theta: 0.8\n",
      "exp: 72 final theta: 0.8\n",
      "exp: 73 final theta: 0.8\n",
      "exp: 74 final theta: 0.8\n",
      "exp: 75 final theta: 0.8\n",
      "exp: 76 final theta: 0.8\n",
      "exp: 77 final theta: 0.8\n",
      "exp: 78 final theta: 0.8\n",
      "exp: 79 final theta: 0.8\n",
      "exp: 80 final theta: 0.8\n",
      "exp: 81 final theta: 0.8\n",
      "exp: 82 final theta: 0.8\n",
      "exp: 83 final theta: 0.4\n",
      "exp: 84 final theta: 0.8\n",
      "exp: 85 final theta: 0.8\n",
      "exp: 86 final theta: 0.8\n",
      "exp: 87 final theta: 0.8\n",
      "exp: 88 final theta: 0.8\n",
      "exp: 89 final theta: 0.8\n",
      "exp: 90 final theta: 0.8\n",
      "exp: 91 final theta: 0.8\n",
      "exp: 92 final theta: 0.8\n",
      "exp: 93 final theta: 0.8\n",
      "exp: 94 final theta: 0.8\n",
      "exp: 95 final theta: 0.8\n",
      "exp: 96 final theta: 0.8\n",
      "exp: 97 final theta: 0.8\n",
      "exp: 98 final theta: 0.8\n",
      "exp: 99 final theta: 0.8\n"
     ]
    }
   ],
   "source": [
    "num_exps=100\n",
    "final_thetas_lri=[]\n",
    "final_penalties_lri=[]\n",
    "theta_opt=0.7\n",
    "num_voters=10\n",
    "\n",
    "max_steps=5000\n",
    "steps_to_conv=[]\n",
    "step_errors=np.zeros(max_steps)\n",
    "\n",
    "for exp in range(num_exps):\n",
    "    gg=GooreGame(theta_opt=theta_opt, automata=\"Lri\", kr=0.95, n_voters=num_voters, g_mod=\"bimod\")\n",
    "    num_steps=0\n",
    "    #while (not gg.converged) and (num_steps<max_steps):\n",
    "    while num_steps<max_steps:\n",
    "        step_errors[num_steps]=step_errors[num_steps]+abs(theta_opt-gg.theta)/num_exps\n",
    "        num_steps=num_steps+1\n",
    "        gg.step()\n",
    "    final_thetas_lri.append(gg.theta)\n",
    "    final_penalties_lri.append(gg.p_pen)\n",
    "    steps_to_conv.append(num_steps)\n",
    "    print(\"exp: \"+str(exp)+\" final theta: \"+str(gg.theta))"
   ]
  },
  {
   "cell_type": "code",
   "execution_count": 3,
   "metadata": {},
   "outputs": [
    {
     "data": {
      "image/png": "[encoded data removed]",
      "text/plain": [
       "<matplotlib.figure.Figure at 0x114914860>"
      ]
     },
     "metadata": {},
     "output_type": "display_data"
    }
   ],
   "source": [
    "plt.plot(step_errors)\n",
    "plt.title(\"Errors in Theta vs Number of Steps\")\n",
    "plt.ylabel(\"Error in Theta\")\n",
    "plt.xlabel(\"Number of Steps\")\n",
    "plt.show()"
   ]
  },
  {
   "cell_type": "code",
   "execution_count": null,
   "metadata": {},
   "outputs": [],
   "source": []
  }
 ],
 "metadata": {
  "kernelspec": {
   "display_name": "Python 3",
   "language": "python",
   "name": "python3"
  },
  "language_info": {
   "codemirror_mode": {
    "name": "ipython",
    "version": 3
   },
   "file_extension": ".py",
   "mimetype": "text/x-python",
   "name": "python",
   "nbconvert_exporter": "python",
   "pygments_lexer": "ipython3",
   "version": "3.6.2"
  }
 },
 "nbformat": 4,
 "nbformat_minor": 2
}
